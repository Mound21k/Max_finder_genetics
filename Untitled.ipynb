{
 "cells": [
  {
   "cell_type": "markdown",
   "id": "f39d9ef0",
   "metadata": {},
   "source": [
    "### Importing dependencies"
   ]
  },
  {
   "cell_type": "code",
   "execution_count": 1,
   "id": "0f6d1222",
   "metadata": {},
   "outputs": [],
   "source": [
    "from random import uniform as frnd\n",
    "from random import randint as rnd\n",
    "import numpy as np\n",
    "from random import shuffle\n",
    "from random import choice"
   ]
  },
  {
   "cell_type": "markdown",
   "id": "b39452a7",
   "metadata": {},
   "source": [
    "### Setting the problem and algorithm parameters"
   ]
  },
  {
   "cell_type": "code",
   "execution_count": 2,
   "id": "d489e4ff",
   "metadata": {},
   "outputs": [],
   "source": [
    "N = 2\n",
    "X1_min = -4\n",
    "X1_max = 2\n",
    "X2_min = -1.5\n",
    "X2_max = 1\n",
    "MUTATION_RATE = 0.5\n",
    "MAX_POPULATION = 10\n",
    "EPOCH = 30\n",
    "negetives = [0,1,3,4,5,6]\n",
    "positives = [0,2,3,4,5]"
   ]
  },
  {
   "cell_type": "markdown",
   "id": "03eaf5df",
   "metadata": {},
   "source": [
    "### Initital Population fucntion"
   ]
  },
  {
   "cell_type": "code",
   "execution_count": 3,
   "id": "71f7746f",
   "metadata": {},
   "outputs": [],
   "source": [
    "def init_population(n , x1min , x1max , x2min , x2max ,m):\n",
    "    population = [[round(frnd(x1min, x1max) ,4) , round(frnd(x2min , x2max) ,4), None] for i in range(m)]\n",
    "    return population"
   ]
  },
  {
   "cell_type": "markdown",
   "id": "9fe32bb5",
   "metadata": {},
   "source": [
    "### Cross-Over Function"
   ]
  },
  {
   "cell_type": "code",
   "execution_count": 4,
   "id": "c97d7fdb",
   "metadata": {},
   "outputs": [],
   "source": [
    "def cross_over(population_list , m):\n",
    "    for i in range(0 ,len(population_list) ,2):\n",
    "        child1 = [population_list[i][0] , population_list[i+1][1] , None]\n",
    "        child2 = [population_list[i+1][0] , population_list[i][1] , None]\n",
    "        population_list.append(child1)\n",
    "        population_list.append(child2)\n",
    "    return population_list"
   ]
  },
  {
   "cell_type": "markdown",
   "id": "1fd6d257",
   "metadata": {},
   "source": [
    "### Mutation Function"
   ]
  },
  {
   "cell_type": "code",
   "execution_count": 5,
   "id": "90abb3ed",
   "metadata": {},
   "outputs": [],
   "source": [
    "def checker_x1(population_list , child):\n",
    "    x1_str = str(population_list[child][0])\n",
    "    cell_i = choice(positives) if population_list[child][0]>0 else choice(negetives)\n",
    "    r1 = rnd(0,9)\n",
    "    member=\"\"\n",
    "    for i in range(len(x1_str)):\n",
    "        if i != cell_i:\n",
    "            member += x1_str[i]\n",
    "        else:\n",
    "            member += str(r1)\n",
    "    if -4 <= float(member) <= 2:\n",
    "        return float(member)\n",
    "    else:\n",
    "        return checker_x1(population_list , child)\n",
    "def checker_x2(population_list , child):\n",
    "    x2_str = str(population_list[child][1])\n",
    "    cell_j = choice(positives) if population_list[child][1]>0 else choice(negetives)\n",
    "    r2 = rnd(0,9)\n",
    "    member=\"\"\n",
    "    for i in range(len(x2_str)):\n",
    "        if i != cell_j:\n",
    "            member += x2_str[i]\n",
    "        else:\n",
    "            member += str(r2)\n",
    "    if -1.5 <= float(member) <= 1:\n",
    "        return float(member)\n",
    "    else:\n",
    "        return checker_x2(population_list , child)\n",
    "def mutation(population_list , m  , r):\n",
    "    choosen_ones = [i for i in range(m,m*2)]\n",
    "    shuffle(choosen_ones)\n",
    "    choosen_ones = choosen_ones[:int(m*r)]\n",
    "    for child in choosen_ones:\n",
    "        population_list[child][0] = checker_x1(population_list , child)\n",
    "        population_list[child][1] = checker_x2(population_list , child)\n",
    "    return population_list"
   ]
  },
  {
   "cell_type": "markdown",
   "id": "de75bf98",
   "metadata": {},
   "source": [
    "### F(x1,x2)"
   ]
  },
  {
   "cell_type": "code",
   "execution_count": 6,
   "id": "5c44b8f2",
   "metadata": {},
   "outputs": [],
   "source": [
    "def f(x1,x2):\n",
    "    z = (1+np.cos(2*np.pi*x1*x2))*np.exp(-(abs(x1)+abs(x2))/2)\n",
    "    return round(z,4)"
   ]
  },
  {
   "cell_type": "markdown",
   "id": "88506526",
   "metadata": {},
   "source": [
    "### Fitness Function"
   ]
  },
  {
   "cell_type": "code",
   "execution_count": 7,
   "id": "5a73b4ff",
   "metadata": {},
   "outputs": [],
   "source": [
    "def fitness(population_list):\n",
    "    for i in range(len(population_list)):\n",
    "        population_list[i][2] = f(population_list[i][0] , population_list[i][1])\n",
    "    return population_list"
   ]
  },
  {
   "cell_type": "markdown",
   "id": "2d85efbe",
   "metadata": {},
   "source": [
    "### Main"
   ]
  },
  {
   "cell_type": "code",
   "execution_count": 8,
   "id": "27e97141",
   "metadata": {},
   "outputs": [
    {
     "name": "stdout",
     "output_type": "stream",
     "text": [
      "Best solution so far:\n",
      "x1: -0.0025\n",
      "x2: -0.0022\n",
      "score: 1.9953\n"
     ]
    }
   ],
   "source": [
    "current_population = init_population(N , X1_min , X1_max , X2_min , X2_max , MAX_POPULATION)\n",
    "current_population = fitness(current_population)\n",
    "current_population = sorted(current_population , key= lambda x: x[-1])\n",
    "current_population = current_population[::-1]\n",
    "for i in range(EPOCH):\n",
    "    current_population = cross_over(current_population , MAX_POPULATION)\n",
    "    current_population = mutation(current_population , MAX_POPULATION , MUTATION_RATE)\n",
    "    current_population = fitness(current_population)\n",
    "    current_population = sorted(current_population , key= lambda x: x[-1])\n",
    "    current_population = current_population[::-1]\n",
    "    current_population = current_population[:MAX_POPULATION]\n",
    "else:\n",
    "    print(f\"Best solution so far:\\nx1: {current_population[0][0]}\\nx2: {current_population[0][1]}\\nscore: {current_population[0][-1]}\")"
   ]
  }
 ],
 "metadata": {
  "kernelspec": {
   "display_name": "Python 3 (ipykernel)",
   "language": "python",
   "name": "python3"
  },
  "language_info": {
   "codemirror_mode": {
    "name": "ipython",
    "version": 3
   },
   "file_extension": ".py",
   "mimetype": "text/x-python",
   "name": "python",
   "nbconvert_exporter": "python",
   "pygments_lexer": "ipython3",
   "version": "3.9.7"
  },
  "vscode": {
   "interpreter": {
    "hash": "7bdb47a8886bfed38856d2692768c29a6b1fe101361b9bd049c2130bb46f5118"
   }
  }
 },
 "nbformat": 4,
 "nbformat_minor": 5
}
